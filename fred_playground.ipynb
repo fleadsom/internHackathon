{
 "cells": [
  {
   "cell_type": "code",
   "execution_count": 1,
   "metadata": {},
   "outputs": [],
   "source": [
    "numOfGrads = 4\n",
    "\n",
    "# Returns true if grad 'g' prefers team 'r1' over team 'r'\n",
    "def gPrefersR1OverR(prefer, g, r, r1):\n",
    "    \n",
    "    # check if g prefers r over their current team r1\n",
    "    for i in range(numOfGrads):\n",
    "        \n",
    "        # if r1 comes before r in g's preferences, do nothing\n",
    "        if (prefer[g][i] == r1):\n",
    "            return True\n",
    "        \n",
    "        # if r comes before r1 in g's preferences, update g's match\n",
    "        if (prefer[g][i] == r):\n",
    "            return False\n",
    "    return False"
   ]
  },
  {
   "cell_type": "code",
   "execution_count": 2,
   "metadata": {},
   "outputs": [],
   "source": [
    "# Returns stable matching for N grads and N teams\n",
    "def stable_matching(prefer):\n",
    "    \n",
    "    # Stores the grads' teams. This is our pairing matrix. '-1' says the grad is free\n",
    "    g_role = [-1 for x in range(numOfGrads)]\n",
    "    \n",
    "    # Stores the availability of roles. If rFree[i] is false, role 'i' is free.\n",
    "    rFree = [True for x in range(numOfGrads)]\n",
    "    \n",
    "    freeCount = numOfGrads\n",
    "    \n",
    "    # While there are free roles\n",
    "    while freeCount > 0:\n",
    "        \n",
    "        # Pick the first free role\n",
    "        r = 0\n",
    "        for r in range(numOfGrads):\n",
    "            if rFree[r] == True:\n",
    "                break\n",
    "\n",
    "        # Go to all grads according to r's preferences. r is the picked free role.\n",
    "        for i in range(numOfGrads):\n",
    "            \n",
    "            if rFree[r] == True:\n",
    "                \n",
    "                g = prefer[r][i]\n",
    "                \n",
    "                # If the grad of preference is free, g and r are paired\n",
    "                if g_role[g - numOfGrads] == -1:\n",
    "                    g_role[g - numOfGrads] = r\n",
    "                    rFree[r] = False\n",
    "                    freeCount = freeCount - 1\n",
    "                    \n",
    "                # If the grad of preference is not free, compute preferences\n",
    "                else:\n",
    "                    \n",
    "                    # Current engagement of g\n",
    "                    r1 = g_role[g - numOfGrads]\n",
    "                    \n",
    "                    if gPrefersR1OverR(prefer, g, r, r1) == False:\n",
    "                        g_role[g - numOfGrads] = r\n",
    "                        rFree[r] = False\n",
    "                        rfree[r1] = True\n",
    "                        \n",
    "    return g_role"
   ]
  },
  {
   "cell_type": "code",
   "execution_count": 3,
   "metadata": {},
   "outputs": [],
   "source": [
    "prefer = [[7,5,6,4],[5,4,6,7],[4,5,6,7],[4,5,6,7],[0,1,2,3],[0,1,2,3],[0,1,2,3]]\n",
    "roles = stable_matching(prefer)"
   ]
  },
  {
   "cell_type": "code",
   "execution_count": 4,
   "metadata": {},
   "outputs": [
    {
     "name": "stdout",
     "output_type": "stream",
     "text": [
      "   \n",
      "4 2\n",
      "   \n",
      "5 1\n",
      "   \n",
      "6 3\n",
      "   \n",
      "7 0\n"
     ]
    }
   ],
   "source": [
    "for i in range(numOfGrads):\n",
    "    print('   ')\n",
    "    print(i + numOfGrads, roles[i])"
   ]
  },
  {
   "cell_type": "code",
   "execution_count": null,
   "metadata": {},
   "outputs": [],
   "source": []
  }
 ],
 "metadata": {
  "kernelspec": {
   "display_name": "Python 3",
   "language": "python",
   "name": "python3"
  },
  "language_info": {
   "codemirror_mode": {
    "name": "ipython",
    "version": 3
   },
   "file_extension": ".py",
   "mimetype": "text/x-python",
   "name": "python",
   "nbconvert_exporter": "python",
   "pygments_lexer": "ipython3",
   "version": "3.6.8"
  }
 },
 "nbformat": 4,
 "nbformat_minor": 2
}
