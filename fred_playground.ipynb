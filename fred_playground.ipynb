{
 "cells": [
  {
   "cell_type": "code",
   "execution_count": 14,
   "metadata": {},
   "outputs": [],
   "source": [
    "# Returns true if grad 'g' prefers team 'r1' (current) over team 'r' (new)\n",
    "def gPrefersR1OverR(gps, rps, g, r, r1):\n",
    "    \n",
    "    # check if g prefers r over their current team r1\n",
    "    for i in range(len(gps[g])):\n",
    "        \n",
    "        # if r1 comes before r in g's preferences, do nothing\n",
    "        if (gps[g][i] == r1):\n",
    "            return True\n",
    "        \n",
    "        # if r comes before r1 in g's preferences, update g's match\n",
    "        if (gps[g][i] == r):\n",
    "            return False\n",
    "        \n",
    "    return False"
   ]
  },
  {
   "cell_type": "code",
   "execution_count": 35,
   "metadata": {},
   "outputs": [],
   "source": [
    "# Returns stable matching for N grads and N teams\n",
    "def stable_matching(gps, rps):\n",
    "    \n",
    "    # Stores the grads' teams. This is our pairing matrix. '-1' says the grad is free\n",
    "    role = [-1 for x in range(N)]\n",
    "    \n",
    "    # Stores the availability of roles. If rFree[i] is false, role 'i' is free.\n",
    "    rFree = [True for x in range(len(rps))]\n",
    "    \n",
    "    freeCount = len(gps)\n",
    "    \n",
    "    # While there are free roles\n",
    "    while freeCount > 0:\n",
    "        \n",
    "        # Pick the first free role\n",
    "        r = 0\n",
    "        for r in range(len(gps)):\n",
    "            if rFree[r] == True:\n",
    "                break\n",
    "\n",
    "        # Go to all grads according to r's preferences. r is the picked free role.\n",
    "        for i in rps[r]:\n",
    "            print(i)\n",
    "            if rFree[r] == True:\n",
    "                print(rFree[r])\n",
    "                # Store the grad's current preferences\n",
    "                g = gps[r][i]\n",
    "                print(g)\n",
    "                # If the grad of preference is free, g and r are paired\n",
    "                if role[g] == -1:\n",
    "                    role[g] = r\n",
    "                    rFree[r] = False\n",
    "                    freeCount = freeCount - 1\n",
    "                    \n",
    "                # If the grad of preference is not free, compute preferences\n",
    "                else:\n",
    "                    \n",
    "                    # Current engagement of g\n",
    "                    r1 = role[g]\n",
    "                    \n",
    "                    if gPrefersR1OverR(gps, rps, g, r, r1) == False:\n",
    "                        role[g] = r\n",
    "                        rFree[r] = False\n",
    "                        rFree[r1] = True\n",
    "                        \n",
    "    return role"
   ]
  },
  {
   "cell_type": "code",
   "execution_count": 37,
   "metadata": {},
   "outputs": [
    {
     "name": "stdout",
     "output_type": "stream",
     "text": [
      "0\n",
      "True\n",
      "3\n",
      "1\n",
      "2\n",
      "3\n",
      "0\n",
      "True\n",
      "1\n",
      "3\n",
      "1\n",
      "2\n",
      "0\n",
      "True\n",
      "0\n",
      "1\n",
      "2\n",
      "3\n",
      "3\n",
      "True\n",
      "3\n",
      "2\n",
      "True\n",
      "2\n",
      "1\n",
      "0\n"
     ]
    }
   ],
   "source": [
    "gps = [[3,2,1,0],[1,0,2,3],[0,1,2,3],[0,1,2,3]]\n",
    "rps = [[0,1,2,3],[0,3,1,2],[0,1,2,3],[3,2,1,0]]\n",
    "roles = stable_matching(gps, rps)"
   ]
  },
  {
   "cell_type": "code",
   "execution_count": 38,
   "metadata": {},
   "outputs": [
    {
     "name": "stdout",
     "output_type": "stream",
     "text": [
      "   \n",
      "4 2\n",
      "   \n",
      "5 1\n",
      "   \n",
      "6 3\n",
      "   \n",
      "7 0\n"
     ]
    }
   ],
   "source": [
    "for i in range(N):\n",
    "    print('   ')\n",
    "    print(i + N, roles[i])"
   ]
  },
  {
   "cell_type": "code",
   "execution_count": null,
   "metadata": {},
   "outputs": [],
   "source": [
    "temp_df2 = pd.DataFrame({'data': data.data.unique(), 'data_new':range(len(data.data.unique()))})# create a temporary dataframe \n",
    "data = data.merge(temp_df2, on='data', how='left')# Now merge it by assigning different values to different strings."
   ]
  }
 ],
 "metadata": {
  "kernelspec": {
   "display_name": "Python 3",
   "language": "python",
   "name": "python3"
  },
  "language_info": {
   "codemirror_mode": {
    "name": "ipython",
    "version": 3
   },
   "file_extension": ".py",
   "mimetype": "text/x-python",
   "name": "python",
   "nbconvert_exporter": "python",
   "pygments_lexer": "ipython3",
   "version": "3.6.8"
  }
 },
 "nbformat": 4,
 "nbformat_minor": 2
}
