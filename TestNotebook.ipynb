{
 "cells": [
  {
   "cell_type": "code",
   "execution_count": 8,
   "metadata": {},
   "outputs": [],
   "source": [
    "import numpy as np\n",
    "from scipy.optimize import linear_sum_assignment"
   ]
  },
  {
   "cell_type": "code",
   "execution_count": 15,
   "metadata": {},
   "outputs": [],
   "source": [
    "oldcost = np.array([[35, 28, 25, 18, 15], \n",
    "                 [27, 24, 17, 14,  9], \n",
    "                 [33, 21, 24, 11, 16], \n",
    "                 [16, 11, 27, 16, 22], \n",
    "                 [14, 15, 33, 30, 23]])\n",
    "\n",
    "# 100 - 5-25 - 2-10 ...\n",
    "\n",
    "cost = np.array([[65, 72, 75, 82, 85],\n",
    "                 [73, 76, 83, 86, 91],\n",
    "                 [67, 79, 76, 89, 84],\n",
    "                 [84, 89, 73, 84, 78],\n",
    "                 [86, 85, 67, 70, 77]])\n",
    "\n",
    "row_ind, col_ind = linear_sum_assignment(cost)"
   ]
  },
  {
   "cell_type": "code",
   "execution_count": 20,
   "metadata": {},
   "outputs": [
    {
     "name": "stdout",
     "output_type": "stream",
     "text": [
      "[1 2 3 4 5]\n",
      "[1 2 3 5 4]\n"
     ]
    }
   ],
   "source": [
    "# print(cost)\n",
    "print(row_ind+1)\n",
    "print(col_ind+1)\n",
    "# print(cost[row_ind, col_ind].sum())\n",
    "\n",
    "# print (100-cost)"
   ]
  },
  {
   "cell_type": "code",
   "execution_count": null,
   "metadata": {},
   "outputs": [],
   "source": []
  }
 ],
 "metadata": {
  "kernelspec": {
   "display_name": "Python 3",
   "language": "python",
   "name": "python3"
  },
  "language_info": {
   "codemirror_mode": {
    "name": "ipython",
    "version": 3
   },
   "file_extension": ".py",
   "mimetype": "text/x-python",
   "name": "python",
   "nbconvert_exporter": "python",
   "pygments_lexer": "ipython3",
   "version": "3.7.3"
  }
 },
 "nbformat": 4,
 "nbformat_minor": 2
}
